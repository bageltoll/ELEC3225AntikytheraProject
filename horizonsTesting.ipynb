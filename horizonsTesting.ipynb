{
 "cells": [
  {
   "cell_type": "markdown",
   "metadata": {},
   "source": [
    "## JPL Horizons"
   ]
  },
  {
   "cell_type": "code",
   "execution_count": 1,
   "metadata": {},
   "outputs": [
    {
     "name": "stdout",
     "output_type": "stream",
     "text": [
      "yee\n"
     ]
    }
   ],
   "source": [
    "\n",
    "from astroquery.jplhorizons import Horizons\n",
    "from astropy.time import Time\n"
   ]
  },
  {
   "cell_type": "markdown",
   "metadata": {},
   "source": [
    "## The main package we're using is [JPL Horizons](https://ssd.jpl.nasa.gov/horizons.cgi).\n",
    "\n",
    "\n",
    "#### Nasa Id - 0 is barycenter of the solar system (we should define barycenter somewhere) \n",
    "-> 1 is Mercury -> 2 is Venus -> 3 is Earth -> 4 is Mars -> 5 is Jupiter -> 6 is Saturn -> 7 is Uranus -> 8 is Neptune -> 9 is Pluto\n",
    "\n",
    "I haven't found a list of these yet in documentation but it would be helpful to have."
   ]
  },
  {
   "cell_type": "code",
   "execution_count": 14,
   "metadata": {},
   "outputs": [
    {
     "data": {
      "text/html": [
       "<div><i>Table masked=True length=1</i>\n",
       "<table id=\"table140198093543600\" class=\"table-striped table-bordered table-condensed\">\n",
       "<thead><tr><th>targetname</th><th>datetime_jd</th><th>datetime_str</th><th>x</th><th>y</th><th>z</th><th>vx</th><th>vy</th><th>vz</th><th>lighttime</th><th>range</th><th>range_rate</th></tr></thead>\n",
       "<thead><tr><th>---</th><th>d</th><th>---</th><th>AU</th><th>AU</th><th>AU</th><th>AU / d</th><th>AU / d</th><th>AU / d</th><th>d</th><th>AU</th><th>AU / d</th></tr></thead>\n",
       "<thead><tr><th>str24</th><th>float64</th><th>str30</th><th>float64</th><th>float64</th><th>float64</th><th>float64</th><th>float64</th><th>float64</th><th>float64</th><th>float64</th><th>float64</th></tr></thead>\n",
       "<tr><td>Mercury Barycenter (199)</td><td>2458119.5</td><td>A.D. 2018-Jan-01 00:00:00.0000</td><td>-0.3877081976897142</td><td>-0.007784734354832311</td><td>0.03493213520287913</td><td>-0.005288319577754868</td><td>-0.02691956351394918</td><td>-0.001714528471793343</td><td>0.002248735741331531</td><td>0.3893565239142835</td><td>0.005650333891159241</td></tr>\n",
       "</table></div>"
      ],
      "text/plain": [
       "<Table masked=True length=1>\n",
       "       targetname        datetime_jd ...       range             range_rate     \n",
       "          ---                 d      ...         AU                AU / d       \n",
       "         str24             float64   ...      float64             float64       \n",
       "------------------------ ----------- ... ------------------ --------------------\n",
       "Mercury Barycenter (199)   2458119.5 ... 0.3893565239142835 0.005650333891159241"
      ]
     },
     "execution_count": 14,
     "metadata": {},
     "output_type": "execute_result"
    }
   ],
   "source": [
    "sim_start_date = \"2018-01-01\"     # simulating a solar system starting from this date\n",
    "time = Time(sim_start_date).jd\n",
    "nasaid = 1 # Mercury\n",
    "\n",
    "mercury = Horizons(id=nasaid, location=\"@sun\", epochs=time).vectors() # fetches the vectors \n",
    "mercury\n"
   ]
  },
  {
   "cell_type": "code",
   "execution_count": 18,
   "metadata": {},
   "outputs": [
    {
     "data": {
      "text/html": [
       "<div><i>Table masked=True length=1</i>\n",
       "<table id=\"table140198116310512\" class=\"table-striped table-bordered table-condensed\">\n",
       "<thead><tr><th>targetname</th><th>datetime_str</th><th>datetime_jd</th><th>solar_presence</th><th>flags</th><th>RA</th><th>DEC</th><th>RA_app</th><th>DEC_app</th><th>RA_rate</th><th>DEC_rate</th><th>AZ</th><th>EL</th><th>AZ_rate</th><th>EL_rate</th><th>sat_X</th><th>sat_Y</th><th>sat_PANG</th><th>siderealtime</th><th>airmass</th><th>magextinct</th><th>V</th><th>surfbright</th><th>illumination</th><th>illum_defect</th><th>sat_sep</th><th>sat_vis</th><th>ang_width</th><th>PDObsLon</th><th>PDObsLat</th><th>PDSunLon</th><th>PDSunLat</th><th>SubSol_ang</th><th>SubSol_dist</th><th>NPole_ang</th><th>NPole_dist</th><th>EclLon</th><th>EclLat</th><th>r</th><th>r_rate</th><th>delta</th><th>delta_rate</th><th>lighttime</th><th>vel_sun</th><th>vel_obs</th><th>elong</th><th>elongFlag</th><th>alpha</th><th>IB_elong</th><th>IB_illum</th><th>sat_alpha</th><th>sunTargetPA</th><th>velocityPA</th><th>OrbPlaneAng</th><th>constellation</th><th>TDB-UT</th><th>ObsEclLon</th><th>ObsEclLat</th><th>NPole_RA</th><th>NPole_DEC</th><th>GlxLon</th><th>GlxLat</th><th>solartime</th><th>earth_lighttime</th><th>RA_3sigma</th><th>DEC_3sigma</th><th>SMAA_3sigma</th><th>SMIA_3sigma</th><th>Theta_3sigma</th><th>Area_3sigma</th><th>RSS_3sigma</th><th>r_3sigma</th><th>r_rate_3sigma</th><th>SBand_3sigma</th><th>XBand_3sigma</th><th>DoppDelay_3sigma</th><th>true_anom</th><th>hour_angle</th><th>alpha_true</th><th>PABLon</th><th>PABLat</th></tr></thead>\n",
       "<thead><tr><th>---</th><th>---</th><th>d</th><th>---</th><th>---</th><th>deg</th><th>deg</th><th>deg</th><th>deg</th><th>arcsec / h</th><th>arcsec / h</th><th>deg</th><th>deg</th><th>arcsec / min</th><th>arcsec / min</th><th>arcsec</th><th>arcsec</th><th>deg</th><th>---</th><th>---</th><th>mag</th><th>mag</th><th>mag / arcsec2</th><th>%</th><th>arcsec</th><th>arcsec</th><th>---</th><th>arcsec</th><th>deg</th><th>deg</th><th>deg</th><th>deg</th><th>deg</th><th>arcsec</th><th>deg</th><th>arcsec</th><th>deg</th><th>deg</th><th>AU</th><th>km / s</th><th>AU</th><th>km / s</th><th>min</th><th>km / s</th><th>km / s</th><th>deg</th><th>---</th><th>deg</th><th>deg</th><th>%</th><th>deg</th><th>deg</th><th>deg</th><th>deg</th><th>---</th><th>s</th><th>deg</th><th>deg</th><th>deg</th><th>deg</th><th>deg</th><th>deg</th><th>---</th><th>min</th><th>arcsec</th><th>arcsec</th><th>arcsec</th><th>arcsec</th><th>deg</th><th>arcsec2</th><th>arcsec</th><th>km</th><th>km / s</th><th>Hz</th><th>Hz</th><th>s</th><th>deg</th><th>---</th><th>deg</th><th>deg</th><th>deg</th></tr></thead>\n",
       "<thead><tr><th>str22</th><th>str24</th><th>float64</th><th>str1</th><th>str1</th><th>float64</th><th>float64</th><th>float64</th><th>float64</th><th>float64</th><th>float64</th><th>int64</th><th>int64</th><th>int64</th><th>int64</th><th>int64</th><th>int64</th><th>int64</th><th>int64</th><th>int64</th><th>int64</th><th>float64</th><th>float64</th><th>float64</th><th>float64</th><th>int64</th><th>int64</th><th>float64</th><th>float64</th><th>float64</th><th>float64</th><th>float64</th><th>float64</th><th>float64</th><th>float64</th><th>float64</th><th>float64</th><th>float64</th><th>float64</th><th>float64</th><th>float64</th><th>float64</th><th>float64</th><th>float64</th><th>float64</th><th>float64</th><th>str2</th><th>float64</th><th>int64</th><th>int64</th><th>int64</th><th>int64</th><th>int64</th><th>float64</th><th>str3</th><th>float64</th><th>float64</th><th>float64</th><th>float64</th><th>float64</th><th>float64</th><th>float64</th><th>int64</th><th>float64</th><th>int64</th><th>int64</th><th>int64</th><th>int64</th><th>int64</th><th>int64</th><th>int64</th><th>int64</th><th>int64</th><th>int64</th><th>int64</th><th>int64</th><th>float64</th><th>int64</th><th>float64</th><th>float64</th><th>float64</th></tr></thead>\n",
       "<tr><td>Venus Barycenter (299)</td><td>2018-Jan-01 00:00:00.000</td><td>2458119.5</td><td></td><td></td><td>276.1601</td><td>-24.4246</td><td>281.24439</td><td>1.35832</td><td>237.2192</td><td>14.9714</td><td>--</td><td>--</td><td>--</td><td>--</td><td>--</td><td>--</td><td>--</td><td>--</td><td>999</td><td>--</td><td>-5.767</td><td>0.774</td><td>100.0</td><td>7.7e-08</td><td>--</td><td>--</td><td>22.9453</td><td>312.150876</td><td>1.620259</td><td>312.14422</td><td>1.620017</td><td>86.39</td><td>0.0</td><td>354.3062</td><td>11.468</td><td>275.608</td><td>-1.1051</td><td>0.727311733442</td><td>0.1391888</td><td>0.72731173344187</td><td>0.1391888</td><td>6.04886724</td><td>34.8285065</td><td>34.8285066</td><td>0.0</td><td>/*</td><td>0.0067</td><td>--</td><td>--</td><td>--</td><td>--</td><td>--</td><td>-0.00794</td><td>Sgr</td><td>69.183941</td><td>275.6079961</td><td>-1.1051483</td><td>272.76</td><td>67.16</td><td>8.205049</td><td>-5.394508</td><td>--</td><td>8.177865</td><td>--</td><td>--</td><td>--</td><td>--</td><td>--</td><td>--</td><td>--</td><td>--</td><td>--</td><td>--</td><td>--</td><td>--</td><td>144.2343</td><td>--</td><td>0.0067</td><td>275.6047</td><td>-1.105</td></tr>\n",
       "</table></div>"
      ],
      "text/plain": [
       "<Table masked=True length=1>\n",
       "      targetname             datetime_str       datetime_jd ...  PABLon   PABLat\n",
       "         ---                     ---                 d      ...   deg      deg  \n",
       "        str22                   str24             float64   ... float64  float64\n",
       "---------------------- ------------------------ ----------- ... -------- -------\n",
       "Venus Barycenter (299) 2018-Jan-01 00:00:00.000   2458119.5 ... 275.6047  -1.105"
      ]
     },
     "execution_count": 18,
     "metadata": {},
     "output_type": "execute_result"
    }
   ],
   "source": [
    "\n",
    "Venus = Horizons(id=2, location=\"@sun\", epochs=time).ephemerides() #ephemerides is a bunch of other data we can fetch\n",
    "Venus\n"
   ]
  },
  {
   "cell_type": "code",
   "execution_count": 13,
   "metadata": {},
   "outputs": [
    {
     "name": "stderr",
     "output_type": "stream",
     "text": [
      "/var/folders/wg/ttcg22kd7hn775xrvbj5blmm0000gn/T/ipykernel_89781/2466962450.py:16: DeprecationWarning: `np.float` is a deprecated alias for the builtin `float`. To silence this warning, use `float` by itself. Doing this will not modify any behavior and is safe. If you specifically wanted the numpy scalar type, use `np.float64` here.\n",
      "Deprecated in NumPy 1.20; for more details and guidance: https://numpy.org/devdocs/release/1.20.0-notes.html#deprecations\n",
      "  self.r    = np.array(r, dtype=np.float)\n",
      "/var/folders/wg/ttcg22kd7hn775xrvbj5blmm0000gn/T/ipykernel_89781/2466962450.py:17: DeprecationWarning: `np.float` is a deprecated alias for the builtin `float`. To silence this warning, use `float` by itself. Doing this will not modify any behavior and is safe. If you specifically wanted the numpy scalar type, use `np.float64` here.\n",
      "Deprecated in NumPy 1.20; for more details and guidance: https://numpy.org/devdocs/release/1.20.0-notes.html#deprecations\n",
      "  self.v    = np.array(v, dtype=np.float)\n",
      "WARNING: AstropyDeprecationWarning: ``id_type``s 'majorbody' and 'id' are deprecated and replaced with ``None``, which has the same functionality. [astroquery.jplhorizons.core]\n"
     ]
    },
    {
     "data": {
      "image/png": "[encoded data removed]",
      "text/plain": [
       "<Figure size 432x432 with 1 Axes>"
      ]
     },
     "metadata": {
      "needs_background": "dark"
     },
     "output_type": "display_data"
    }
   ],
   "source": [
    "#Code from https://medium.com/analytics-vidhya/simulating-the-solar-system-with-under-100-lines-of-python-code-5c53b3039fc6\n",
    "\n",
    "import numpy as np\n",
    "import matplotlib.pyplot as plt\n",
    "import matplotlib.animation as animation\n",
    "from astropy.time import Time\n",
    "from astroquery.jplhorizons import Horizons\n",
    "\n",
    "sim_start_date = \"2018-01-01\"     # simulating a solar system starting from this date\n",
    "sim_duration = 2 * 365                # (int) simulation duration in days\n",
    "m_earth = 5.9722e24 / 1.98847e30  # Mass of Earth relative to mass of the sun\n",
    "m_moon = 7.3477e22 / 1.98847e30\n",
    " \n",
    "class Object:                   # define the objects: the Sun, Earth, Mercury, etc\n",
    "    def __init__(self, name, rad, color, r, v):\n",
    "        self.name = name\n",
    "        self.r    = np.array(r, dtype=np.float)\n",
    "        self.v    = np.array(v, dtype=np.float)\n",
    "        self.xs = []\n",
    "        self.ys = []\n",
    "        self.plot = ax.scatter(r[0], r[1], color=color, s=rad**2, edgecolors=None, zorder=10)\n",
    "        self.line, = ax.plot([], [], color=color, linewidth=1.4)\n",
    "\n",
    "class SolarSystem:\n",
    "    def __init__(self, thesun):\n",
    "        self.thesun = thesun\n",
    "        self.planets = []\n",
    "        self.time = None\n",
    "        self.timestamp = ax.text(.03, .94, 'Date: ', color='w', transform=ax.transAxes, fontsize='x-large')\n",
    "    def add_planet(self, planet):\n",
    "        self.planets.append(planet)\n",
    "    def evolve(self):           # evolve the trajectories\n",
    "        dt = 1.0\n",
    "        self.time += dt\n",
    "        plots = []\n",
    "        lines = []\n",
    "        for p in self.planets:\n",
    "            p.r += p.v * dt\n",
    "            acc = -2.959e-4 * p.r / np.sum(p.r**2)**(3./2)  # in units of AU/day^2\n",
    "            p.v += acc * dt\n",
    "            p.xs.append(p.r[0])\n",
    "            p.ys.append(p.r[1])\n",
    "            p.plot.set_offsets(p.r[:2])\n",
    "            p.line.set_xdata(p.xs)\n",
    "            p.line.set_ydata(p.ys)\n",
    "            plots.append(p.plot)\n",
    "            lines.append(p.line)\n",
    "        self.timestamp.set_text('Date: ' + Time(self.time, format='jd', out_subfmt='float').iso)\n",
    "        return plots + lines + [self.timestamp]\n",
    "\n",
    "plt.style.use('dark_background')\n",
    "fig = plt.figure(figsize=[6, 6])\n",
    "ax = plt.axes([0., 0., 1., 1.], xlim=(-1.8, 1.8), ylim=(-1.8, 1.8))\n",
    "ax.set_aspect('equal')\n",
    "ax.axis('off')\n",
    "ss = SolarSystem(Object(\"Sun\", 28, 'red', [0, 0, 0], [0, 0, 0]))\n",
    "ss.time = Time(sim_start_date).jd\n",
    "colors = ['gray', 'orange', 'blue', 'chocolate']\n",
    "sizes = [0.38, 0.95, 1., 0.53]\n",
    "names = ['Mercury', 'Venus', 'Earth', 'Mars']\n",
    "texty = [.47, .73, 1, 1.5]\n",
    "for i, nasaid in enumerate([1, 2, 3, 4]):  # The 1st, 2nd, 3rd, 4th planet in solar system\n",
    "    obj = Horizons(id=nasaid, location=\"@sun\", epochs=ss.time, id_type='id').vectors()\n",
    "    ss.add_planet(Object(nasaid, 20 * sizes[i], colors[i], \n",
    "                         [np.double(obj[xi]) for xi in ['x', 'y', 'z']], \n",
    "                         [np.double(obj[vxi]) for vxi in ['vx', 'vy', 'vz']]))\n",
    "    ax.text(0, - (texty[i] + 0.1), names[i], color=colors[i], zorder=1000, ha='center', fontsize='large')\n",
    "def animate(i):\n",
    "    return ss.evolve()\n",
    "ani = animation.FuncAnimation(fig, animate, repeat=False, frames=sim_duration, blit=True, interval=20,)\n",
    "plt.show()\n",
    "# ani.save('solar_system_6in_150dpi.mp4', fps=60, dpi=150)"
   ]
  },
  {
   "cell_type": "code",
   "execution_count": null,
   "metadata": {},
   "outputs": [],
   "source": []
  }
 ],
 "metadata": {
  "interpreter": {
   "hash": "75796db9b0a365e3038169aec28c52d13164da69269609b41deb52b1c9c9f775"
  },
  "kernelspec": {
   "display_name": "Python 3.8.13 ('antikythera')",
   "language": "python",
   "name": "python3"
  },
  "language_info": {
   "codemirror_mode": {
    "name": "ipython",
    "version": 3
   },
   "file_extension": ".py",
   "mimetype": "text/x-python",
   "name": "python",
   "nbconvert_exporter": "python",
   "pygments_lexer": "ipython3",
   "version": "3.8.13"
  },
  "orig_nbformat": 4
 },
 "nbformat": 4,
 "nbformat_minor": 2
}
