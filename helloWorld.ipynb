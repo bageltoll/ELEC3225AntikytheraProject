{
 "cells": [
  {
   "cell_type": "markdown",
   "metadata": {},
   "source": [
    "## Heres a notebook"
   ]
  },
  {
   "cell_type": "code",
   "execution_count": 2,
   "metadata": {},
   "outputs": [
    {
     "name": "stdout",
     "output_type": "stream",
     "text": [
      "yee\n"
     ]
    }
   ],
   "source": [
    "print('yee')"
   ]
  },
  {
   "cell_type": "code",
   "execution_count": 3,
   "metadata": {},
   "outputs": [
    {
     "data": {
      "text/plain": [
       "1.3"
      ]
     },
     "execution_count": 3,
     "metadata": {},
     "output_type": "execute_result"
    }
   ],
   "source": [
    "0.1 + 0.2 + 1"
   ]
  },
  {
   "cell_type": "code",
   "execution_count": 7,
   "metadata": {},
   "outputs": [
    {
     "name": "stderr",
     "output_type": "stream",
     "text": [
      "/var/folders/wg/ttcg22kd7hn775xrvbj5blmm0000gn/T/ipykernel_40044/1677462241.py:15: DeprecationWarning: `np.float` is a deprecated alias for the builtin `float`. To silence this warning, use `float` by itself. Doing this will not modify any behavior and is safe. If you specifically wanted the numpy scalar type, use `np.float64` here.\n",
      "Deprecated in NumPy 1.20; for more details and guidance: https://numpy.org/devdocs/release/1.20.0-notes.html#deprecations\n",
      "  self.r    = np.array(r, dtype=np.float)\n",
      "/var/folders/wg/ttcg22kd7hn775xrvbj5blmm0000gn/T/ipykernel_40044/1677462241.py:16: DeprecationWarning: `np.float` is a deprecated alias for the builtin `float`. To silence this warning, use `float` by itself. Doing this will not modify any behavior and is safe. If you specifically wanted the numpy scalar type, use `np.float64` here.\n",
      "Deprecated in NumPy 1.20; for more details and guidance: https://numpy.org/devdocs/release/1.20.0-notes.html#deprecations\n",
      "  self.v    = np.array(v, dtype=np.float)\n",
      "WARNING: AstropyDeprecationWarning: ``id_type``s 'majorbody' and 'id' are deprecated and replaced with ``None``, which has the same functionality. [astroquery.jplhorizons.core]\n"
     ]
    },
    {
     "data": {
      "image/png": "[encoded data removed]",
      "text/plain": [
       "<Figure size 432x432 with 1 Axes>"
      ]
     },
     "metadata": {},
     "output_type": "display_data"
    }
   ],
   "source": [
    "#Code from https://medium.com/analytics-vidhya/simulating-the-solar-system-with-under-100-lines-of-python-code-5c53b3039fc6\n",
    "\n",
    "import numpy as np\n",
    "import matplotlib.pyplot as plt\n",
    "import matplotlib.animation as animation\n",
    "from astropy.time import Time\n",
    "from astroquery.jplhorizons import Horizons\n",
    "\n",
    "sim_start_date = \"2018-01-01\"     # simulating a solar system starting from this date\n",
    "sim_duration = 2 * 365                # (int) simulation duration in days\n",
    "m_earth = 5.9722e24 / 1.98847e30  # Mass of Earth relative to mass of the sun\n",
    "m_moon = 7.3477e22 / 1.98847e30\n",
    " \n",
    "class Object:                   # define the objects: the Sun, Earth, Mercury, etc\n",
    "    def __init__(self, name, rad, color, r, v):\n",
    "        self.name = name\n",
    "        self.r    = np.array(r, dtype=np.float)\n",
    "        self.v    = np.array(v, dtype=np.float)\n",
    "        self.xs = []\n",
    "        self.ys = []\n",
    "        self.plot = ax.scatter(r[0], r[1], color=color, s=rad**2, edgecolors=None, zorder=10)\n",
    "        self.line, = ax.plot([], [], color=color, linewidth=1.4)\n",
    "\n",
    "class SolarSystem:\n",
    "    def __init__(self, thesun):\n",
    "        self.thesun = thesun\n",
    "        self.planets = []\n",
    "        self.time = None\n",
    "        self.timestamp = ax.text(.03, .94, 'Date: ', color='w', transform=ax.transAxes, fontsize='x-large')\n",
    "    def add_planet(self, planet):\n",
    "        self.planets.append(planet)\n",
    "    def evolve(self):           # evolve the trajectories\n",
    "        dt = 1.0\n",
    "        self.time += dt\n",
    "        plots = []\n",
    "        lines = []\n",
    "        for p in self.planets:\n",
    "            p.r += p.v * dt\n",
    "            acc = -2.959e-4 * p.r / np.sum(p.r**2)**(3./2)  # in units of AU/day^2\n",
    "            p.v += acc * dt\n",
    "            p.xs.append(p.r[0])\n",
    "            p.ys.append(p.r[1])\n",
    "            p.plot.set_offsets(p.r[:2])\n",
    "            p.line.set_xdata(p.xs)\n",
    "            p.line.set_ydata(p.ys)\n",
    "            plots.append(p.plot)\n",
    "            lines.append(p.line)\n",
    "        self.timestamp.set_text('Date: ' + Time(self.time, format='jd', out_subfmt='float').iso)\n",
    "        return plots + lines + [self.timestamp]\n",
    "\n",
    "plt.style.use('dark_background')\n",
    "fig = plt.figure(figsize=[6, 6])\n",
    "ax = plt.axes([0., 0., 1., 1.], xlim=(-1.8, 1.8), ylim=(-1.8, 1.8))\n",
    "ax.set_aspect('equal')\n",
    "ax.axis('off')\n",
    "ss = SolarSystem(Object(\"Sun\", 28, 'red', [0, 0, 0], [0, 0, 0]))\n",
    "ss.time = Time(sim_start_date).jd\n",
    "colors = ['gray', 'orange', 'blue', 'chocolate']\n",
    "sizes = [0.38, 0.95, 1., 0.53]\n",
    "names = ['Mercury', 'Venus', 'Earth', 'Mars']\n",
    "texty = [.47, .73, 1, 1.5]\n",
    "for i, nasaid in enumerate([1, 2, 3, 4]):  # The 1st, 2nd, 3rd, 4th planet in solar system\n",
    "    obj = Horizons(id=nasaid, location=\"@sun\", epochs=ss.time, id_type='id').vectors()\n",
    "    ss.add_planet(Object(nasaid, 20 * sizes[i], colors[i], \n",
    "                         [np.double(obj[xi]) for xi in ['x', 'y', 'z']], \n",
    "                         [np.double(obj[vxi]) for vxi in ['vx', 'vy', 'vz']]))\n",
    "    ax.text(0, - (texty[i] + 0.1), names[i], color=colors[i], zorder=1000, ha='center', fontsize='large')\n",
    "def animate(i):\n",
    "    return ss.evolve()\n",
    "ani = animation.FuncAnimation(fig, animate, repeat=False, frames=sim_duration, blit=True, interval=20,)\n",
    "plt.show()\n",
    "# ani.save('solar_system_6in_150dpi.mp4', fps=60, dpi=150)"
   ]
  },
  {
   "cell_type": "code",
   "execution_count": null,
   "metadata": {},
   "outputs": [],
   "source": []
  }
 ],
 "metadata": {
  "interpreter": {
   "hash": "75796db9b0a365e3038169aec28c52d13164da69269609b41deb52b1c9c9f775"
  },
  "kernelspec": {
   "display_name": "Python 3.8.13 ('antikythera')",
   "language": "python",
   "name": "python3"
  },
  "language_info": {
   "codemirror_mode": {
    "name": "ipython",
    "version": 3
   },
   "file_extension": ".py",
   "mimetype": "text/x-python",
   "name": "python",
   "nbconvert_exporter": "python",
   "pygments_lexer": "ipython3",
   "version": "3.8.13"
  },
  "orig_nbformat": 4
 },
 "nbformat": 4,
 "nbformat_minor": 2
}
